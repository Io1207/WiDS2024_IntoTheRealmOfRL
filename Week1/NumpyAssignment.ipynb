{
 "cells": [
  {
   "cell_type": "markdown",
   "metadata": {},
   "source": [
    "## Numpy Assignment\n",
    "\n",
    "Just to get anyone who hasn't worked with numpy extesively before acquainted with it\n",
    "<br>\n",
    "You only need to fill in the code between the ```< START >``` and ```< END >``` tags, the rest has been implemented for you!\n",
    "\n",
    "```python\n",
    "# < START >\n",
    "\"YOUR CODE GOES HERE!\"\n",
    "# < END >\n",
    "\n",
    "```\n",
    "**Start by running the below cell, to import the NumPy library.**"
   ]
  },
  {
   "cell_type": "code",
   "execution_count": null,
   "metadata": {},
   "outputs": [],
   "source": [
    "# this file's structure has been taken from https://github.com/deeksha-4/WiDS-23-Into_the_Realm_of_Neural_Networks/blob/main/Week1/Week1_NumPy_Assignment.ipynb\n",
    "import numpy as np\n",
    "import math\n",
    "import time"
   ]
  },
  {
   "cell_type": "markdown",
   "metadata": {},
   "source": [
    "We will start with creating a $2\\times3$ array like this\n",
    "$\\begin{bmatrix}\n",
    "5 & 6 & 3\\\\\n",
    "3 & 12 & 1\\\\\n",
    "\\end{bmatrix}$, and assign it to a variable `array`.  "
   ]
  },
  {
   "cell_type": "code",
   "execution_count": null,
   "metadata": {},
   "outputs": [
    {
     "name": "stdout",
     "output_type": "stream",
     "text": [
      "shape: (3, 3) , size: 9 , dim: 2\n",
      "12 16 17\n",
      "[13 16]\n"
     ]
    }
   ],
   "source": [
    "# < START >\n",
    "\n",
    "# < END >\n",
    "\n",
    "print(array)\n",
    "print(\"Shape:\", array.shape)"
   ]
  },
  {
   "cell_type": "markdown",
   "metadata": {},
   "source": [
    "Now, we would like you to explore a few numpy functions, here are a few tasks:\n",
    "<ul>\n",
    "<li>Initialise an array of shape (5,2,6) whose every element is 0 without explicitly writing it out in list format</li>\n",
    "<li>Initialise an array like the previous one except now all the elements should be 1</li>\n",
    "<li>Initialise an array of shape (3,4) with random values, do NOT directly declare this array; search for a function in numpy to do this</li>\n",
    "</ul>"
   ]
  },
  {
   "cell_type": "code",
   "execution_count": null,
   "metadata": {},
   "outputs": [],
   "source": [
    "# < START >\n",
    "\n",
    "# < END >\n",
    "\n",
    "print(zeroArray)\n",
    "\n",
    "# < START >\n",
    "\n",
    "# < END >\n",
    "\n",
    "print(oneArray)\n",
    "\n",
    "# < START >\n",
    "\n",
    "# < END >\n",
    "\n",
    "print(randomArray)"
   ]
  },
  {
   "cell_type": "markdown",
   "metadata": {},
   "source": [
    "Now we will play around with reshaping of the array\n",
    "<ul>\n",
    "<li>First you need to find the transpose of y</li>\n",
    "<li>Then reshape this to an array of shape (4,5)</li>\n",
    "<li>Then reshape this to a flat array (ie, shape will be (1,20))</li>\n",
    "</ul>"
   ]
  },
  {
   "cell_type": "code",
   "execution_count": null,
   "metadata": {},
   "outputs": [],
   "source": [
    "y=np.array([1,2,4,5,6,7,8,9,-5,6],[-4,8,6,11,3,7,6,2,4,0])\n",
    "\n",
    "# < START >\n",
    "#get transpose\n",
    "\n",
    "# < END >\n",
    "\n",
    "# < START >\n",
    "#get reshaped matrix\n",
    "\n",
    "# < END >\n",
    "\n",
    "# < START >\n",
    "#get flattened matrix\n",
    "\n",
    "# < END >"
   ]
  },
  {
   "cell_type": "markdown",
   "metadata": {},
   "source": [
    "### **Indexing & Slicing**\n",
    "Just like with normal arrays, you can access an element at the `(i,j)` position using `array[i][j]`.  \n",
    "However, NumPy allows you to do the same using `array[i, j]`, and this form is more efficient and simpler to use."
   ]
  },
  {
   "cell_type": "code",
   "execution_count": null,
   "metadata": {},
   "outputs": [],
   "source": [
    "x = np.array([4, 1, 5, 6, 11])\n",
    "\n",
    "# \n",
    "# Create a new array y with the middle 3 elements of x\n",
    "\n",
    "# \n",
    "\n",
    "print(y)\n",
    "\n",
    "z = np.array([1, 2, 3, 4, 5, 6, 7, 8, 9, 10])\n",
    "\n",
    "# \n",
    "# Create a new array w with alternating elements of z\n",
    "\n",
    "# \n",
    "\n",
    "print(w)\n",
    "\n",
    "arr_2d = np.array([[4, 5, 2],\n",
    "          [3, 7, 9],\n",
    "          [1, 4, 5],\n",
    "          [6, 6, 1]])\n",
    "\n",
    "# \n",
    "# Create a 2D array sliced_arr_2d that is of the form [[5, 2], [7, 9], [4, 5]]\n",
    "\n",
    "# \n",
    "\n",
    "print(sliced_arr_2d)"
   ]
  },
  {
   "cell_type": "markdown",
   "metadata": {},
   "source": [
    "<h3> Broadcasting</h3>"
   ]
  },
  {
   "cell_type": "code",
   "execution_count": null,
   "metadata": {},
   "outputs": [],
   "source": [
    "arr1 = np.array([1, 2, 3, 4])\n",
    "b = 1\n",
    "# \n",
    "# Implement broadcasting to add b to each element of ar\n",
    "# \n",
    "print(arr1)\n",
    "arr2 = np.array([[1, 2, 3],[4, 5, 6]])\n",
    "arr3 = np.array([[4],[5]])\n",
    "# \n",
    "# Multiply each element of the first row of arr2 by 4 and each element of the second row by 5, using only arr2 and arr3\n",
    "\n",
    "# \n",
    "print(arr2)"
   ]
  },
  {
   "cell_type": "markdown",
   "metadata": {},
   "source": [
    "Vectorization"
   ]
  },
  {
   "cell_type": "code",
   "execution_count": null,
   "metadata": {},
   "outputs": [],
   "source": [
    "#refrain from adding print statements in the part whose time is being included in the time reqd for wither approach as print states will increase the time by a lot\n",
    "\n",
    "arr_nonvectorized = np.random.rand(1000, 1000)\n",
    "arr_vectorized = np.array(arr_nonvectorized) # making a deep copy of the array\n",
    "\n",
    "start_nv = time.time()\n",
    "\n",
    "# Non-vectorized approach\n",
    "# \n",
    "\n",
    "\n",
    "\n",
    "# \n",
    "\n",
    "end_nv = time.time()\n",
    "print(arr_vectorized)\n",
    "print(\"Time taken in non-vectorized approach:\", 1000*(end_nv-start_nv), \"ms\")\n",
    "\n",
    "# uncomment and execute the below line to convince yourself that both approaches are doing the same thing\n",
    "# print(arr_nonvectorized)\n",
    "\n",
    "start_v = time.time()\n",
    "\n",
    "# Vectorized approach\n",
    "# \n",
    "\n",
    "# \n",
    "\n",
    "end_v = time.time()\n",
    "print(\"Time taken in vectorized approach:\", 1000*(end_v-start_v), \"ms\")\n",
    "print(arr_vectorized)"
   ]
  }
 ],
 "metadata": {
  "kernelspec": {
   "display_name": "Python 3",
   "language": "python",
   "name": "python3"
  },
  "language_info": {
   "codemirror_mode": {
    "name": "ipython",
    "version": 3
   },
   "file_extension": ".py",
   "mimetype": "text/x-python",
   "name": "python",
   "nbconvert_exporter": "python",
   "pygments_lexer": "ipython3",
   "version": "3.11.7"
  }
 },
 "nbformat": 4,
 "nbformat_minor": 2
}
